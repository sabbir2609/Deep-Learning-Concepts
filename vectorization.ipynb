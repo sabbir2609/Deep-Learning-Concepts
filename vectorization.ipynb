{
  "nbformat": 4,
  "nbformat_minor": 0,
  "metadata": {
    "colab": {
      "provenance": [],
      "authorship_tag": "ABX9TyP7wtU6SOayGDcrw1cZ2Wbn",
      "include_colab_link": true
    },
    "kernelspec": {
      "name": "python3",
      "display_name": "Python 3"
    },
    "language_info": {
      "name": "python"
    }
  },
  "cells": [
    {
      "cell_type": "markdown",
      "metadata": {
        "id": "view-in-github",
        "colab_type": "text"
      },
      "source": [
        "<a href=\"https://colab.research.google.com/github/sabbir2609/Deep-Learning-Concepts/blob/main/vectorization.ipynb\" target=\"_parent\"><img src=\"https://colab.research.google.com/assets/colab-badge.svg\" alt=\"Open In Colab\"/></a>"
      ]
    },
    {
      "cell_type": "code",
      "source": [
        "import time\n",
        "import numpy as np\n",
        "\n",
        "a = np.array([1,2,3,4])\n",
        "print(type(a), a)\n",
        "\n",
        "a = np.random.rand(10000000)\n",
        "b = np.random.rand(10000000)\n",
        "\n",
        "tic = time.time()\n",
        "c = np.dot(a,b)\n",
        "toc = time.time()\n",
        "\n",
        "print(c)\n",
        "print(\"vectorized version: \" + str(1000*(toc-tic)) + \" ms\")\n",
        "\n",
        "tic = time.time()\n",
        "c = 0\n",
        "for i in range(10000000):\n",
        "  c += a[i] * b[i]\n",
        "toc = time.time()\n",
        "\n",
        "print(\"For Loop: \" + str(1000*(toc-tic)) + \" ms\")\n",
        "print(c)"
      ],
      "metadata": {
        "colab": {
          "base_uri": "https://localhost:8080/"
        },
        "id": "AUF1iHJBt1pE",
        "outputId": "da72df1d-8a9e-4af6-f703-22c3b8ec1fac"
      },
      "execution_count": 2,
      "outputs": [
        {
          "output_type": "stream",
          "name": "stdout",
          "text": [
            "<class 'numpy.ndarray'> [1 2 3 4]\n",
            "2499136.2592181107\n",
            "vectorized version: 18.57757568359375 ms\n",
            "For Loop: 5269.726753234863 ms\n",
            "2499136.259217665\n"
          ]
        }
      ]
    },
    {
      "cell_type": "code",
      "source": [],
      "metadata": {
        "id": "267XvNoovQpo"
      },
      "execution_count": null,
      "outputs": []
    }
  ]
}