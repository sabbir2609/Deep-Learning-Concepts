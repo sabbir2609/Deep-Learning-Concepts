{
  "nbformat": 4,
  "nbformat_minor": 0,
  "metadata": {
    "colab": {
      "provenance": [],
      "collapsed_sections": [],
      "authorship_tag": "ABX9TyNc5rnzFUgE0uYi+Y/Ny9kT",
      "include_colab_link": true
    },
    "kernelspec": {
      "name": "python3",
      "display_name": "Python 3"
    },
    "language_info": {
      "name": "python"
    }
  },
  "cells": [
    {
      "cell_type": "markdown",
      "metadata": {
        "id": "view-in-github",
        "colab_type": "text"
      },
      "source": [
        "<a href=\"https://colab.research.google.com/github/sabbir2609/Deep-Learning-Concepts/blob/main/numpy.ipynb\" target=\"_parent\"><img src=\"https://colab.research.google.com/assets/colab-badge.svg\" alt=\"Open In Colab\"/></a>"
      ]
    },
    {
      "cell_type": "code",
      "execution_count": 1,
      "metadata": {
        "colab": {
          "base_uri": "https://localhost:8080/"
        },
        "id": "p2OP69IJmM2L",
        "outputId": "51335a68-81c9-4ae3-daa8-bfbfd21548ab"
      },
      "outputs": [
        {
          "output_type": "execute_result",
          "data": {
            "text/plain": [
              "array([ 0.        , -0.54930614])"
            ]
          },
          "metadata": {},
          "execution_count": 1
        }
      ],
      "source": [
        "import numpy as np\n",
        "np.arctanh([0, -0.5])"
      ]
    },
    {
      "cell_type": "code",
      "source": [
        "np.tanh((0, np.pi*1j, np.pi*1j/2))"
      ],
      "metadata": {
        "colab": {
          "base_uri": "https://localhost:8080/"
        },
        "id": "8ikW5Y8NtsJk",
        "outputId": "a893b557-2eec-4f2b-dd7b-99983d6da77d"
      },
      "execution_count": 2,
      "outputs": [
        {
          "output_type": "execute_result",
          "data": {
            "text/plain": [
              "array([0.+0.00000000e+00j, 0.-1.22464680e-16j, 0.+1.63312394e+16j])"
            ]
          },
          "metadata": {},
          "execution_count": 2
        }
      ]
    }
  ]
}